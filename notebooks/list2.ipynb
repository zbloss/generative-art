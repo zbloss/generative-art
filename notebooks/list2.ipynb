{
 "cells": [
  {
   "cell_type": "code",
   "execution_count": 1,
   "id": "b5474e48",
   "metadata": {},
   "outputs": [],
   "source": [
    "from selenium.webdriver import Firefox, Chrome\n",
    "from selenium.webdriver.chrome.options import Options\n",
    "from glob import glob\n",
    "import os\n",
    "import time\n",
    "from tqdm.notebook import tqdm\n",
    "\n",
    "opts = Options()\n",
    "#opts.set_headless()\n",
    "opts.add_extension('C:/Users/altoz/Downloads/coinbase_wallet.crx')\n",
    "#assert opts.headless\n",
    "browser = Chrome(options=opts)\n",
    "browser.get('https://opensea.io/')"
   ]
  },
  {
   "cell_type": "code",
   "execution_count": null,
   "id": "4599e9b5",
   "metadata": {},
   "outputs": [],
   "source": [
    "i = 0\n",
    "while True:\n",
    "    try:\n",
    "        browser.get('https://opensea.io/assets/monsters-evolution?collectionSlug=monsters-evolution&search[sortAscending]=true&search[sortBy]=LAST_SALE_PRICE')\n",
    "        browser.find_element_by_class_name('AssetMedia--img').click()\n",
    "        time.sleep(4)\n",
    "\n",
    "        buttons = browser.find_elements_by_xpath(\"//*[contains(text(), 'Lower price')]\")\n",
    "        time.sleep(4)\n",
    "\n",
    "        buttons = browser.find_elements_by_xpath(\"//*[contains(text(), 'Sell')]\")\n",
    "        buttons[0].click()\n",
    "        time.sleep(4)\n",
    "        \n",
    "        browser.find_element_by_class_name('Input--input').send_keys('0.1')\n",
    "        buttons = browser.find_elements_by_xpath(\"//*[contains(text(), 'Post your listing')]\")\n",
    "        buttons[0].click()\n",
    "        time.sleep(8)\n",
    "        \n",
    "    except:\n",
    "        #time.sleep(10)\n",
    "        pass"
   ]
  },
  {
   "cell_type": "code",
   "execution_count": null,
   "id": "d6648a12",
   "metadata": {},
   "outputs": [],
   "source": []
  }
 ],
 "metadata": {
  "kernelspec": {
   "display_name": "Python 3 (ipykernel)",
   "language": "python",
   "name": "python3"
  },
  "language_info": {
   "codemirror_mode": {
    "name": "ipython",
    "version": 3
   },
   "file_extension": ".py",
   "mimetype": "text/x-python",
   "name": "python",
   "nbconvert_exporter": "python",
   "pygments_lexer": "ipython3",
   "version": "3.7.6"
  }
 },
 "nbformat": 4,
 "nbformat_minor": 5
}
