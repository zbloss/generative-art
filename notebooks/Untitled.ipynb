{
 "cells": [
  {
   "cell_type": "code",
   "execution_count": 2,
   "id": "bc127e3e",
   "metadata": {},
   "outputs": [
    {
     "name": "stdout",
     "output_type": "stream",
     "text": [
      "Collecting selenium\n",
      "  Downloading https://files.pythonhosted.org/packages/80/d6/4294f0b4bce4de0abf13e17190289f9d0613b0a44e5dd6a7f5ca98459853/selenium-3.141.0-py2.py3-none-any.whl (904kB)\n",
      "Requirement already satisfied: urllib3 in c:\\users\\altoz\\documents\\projects\\generative-art\\gen_env\\lib\\site-packages (from selenium) (1.26.6)\n",
      "Installing collected packages: selenium\n",
      "Successfully installed selenium-3.141.0\n"
     ]
    },
    {
     "name": "stderr",
     "output_type": "stream",
     "text": [
      "WARNING: You are using pip version 19.2.3, however version 21.2.4 is available.\n",
      "You should consider upgrading via the 'python -m pip install --upgrade pip' command.\n"
     ]
    }
   ],
   "source": [
    "!pip install selenium"
   ]
  },
  {
   "cell_type": "code",
   "execution_count": null,
   "id": "a4e4340a",
   "metadata": {},
   "outputs": [],
   "source": [
    "from selenium.webdriver import Firefox, Chrome\n",
    "from selenium.webdriver.chrome.options import Options\n",
    "from glob import glob\n",
    "import os\n",
    "import time\n",
    "from tqdm.notebook import tqdm\n",
    "from selenium.webdriver.common.keys import Keys"
   ]
  },
  {
   "cell_type": "code",
   "execution_count": 2,
   "id": "3dd7ec56",
   "metadata": {},
   "outputs": [],
   "source": [
    "with open('../collection.md', 'r') as item_desc:\n",
    "    base_description = item_desc.read()\n",
    "    item_desc.close()"
   ]
  },
  {
   "cell_type": "code",
   "execution_count": 3,
   "id": "1425b03a",
   "metadata": {},
   "outputs": [],
   "source": [
    "opts = Options()\n",
    "#opts.set_headless()\n",
    "opts.add_extension('C:/Users/altoz/Downloads/coinbase_wallet.crx')\n",
    "#assert opts.headless\n",
    "browser = Chrome(options=opts)"
   ]
  },
  {
   "cell_type": "code",
   "execution_count": null,
   "id": "6958e1c3",
   "metadata": {},
   "outputs": [],
   "source": [
    "browser.get('https://opensea.io/')\n",
    "#browser.find_element_by_name('a_Create')\n",
    "browser.fullscreen_window()"
   ]
  },
  {
   "cell_type": "code",
   "execution_count": 35,
   "id": "d9273d94",
   "metadata": {},
   "outputs": [],
   "source": [
    "browser.get('https://opensea.io/asset/create')"
   ]
  },
  {
   "cell_type": "code",
   "execution_count": 72,
   "id": "8e1e6dfc",
   "metadata": {},
   "outputs": [],
   "source": [
    "gifs_to_upload = glob('D:/models/generative-art/monsters/monsters-stylegan2/results/monsters-gan/default/*.gif')\n",
    "number_of_gifs_to_upload = len(gifs_to_upload) - 3"
   ]
  },
  {
   "cell_type": "code",
   "execution_count": 73,
   "id": "e5aa40c7",
   "metadata": {},
   "outputs": [
    {
     "data": {
      "application/vnd.jupyter.widget-view+json": {
       "model_id": "9e3620cfa1044f828cd2a1cf615df472",
       "version_major": 2,
       "version_minor": 0
      },
      "text/plain": [
       "  0%|          | 0/997 [00:00<?, ?it/s]"
      ]
     },
     "metadata": {},
     "output_type": "display_data"
    }
   ],
   "source": [
    "for gif in tqdm(gifs_to_upload, total=number_of_gifs_to_upload):\n",
    "    basedir, filename = os.path.split(gif)\n",
    "    item_num = filename.split('.')[0]\n",
    "    if int(item_num) > 2:\n",
    "        browser.get('https://opensea.io/asset/create')\n",
    "        browser.find_element_by_class_name('MediaInput--input').send_keys(\n",
    "            f'D:/models/generative-art/monsters/monsters-stylegan2/results/monsters-gan/default/{item_num}.gif'\n",
    "        )\n",
    "        browser.find_element_by_id('name').send_keys(f'Monsters Evolution #{item_num}')\n",
    "        description = f'Monster Evolutions #{item_num}\\n\\n{base_description}'\n",
    "        browser.find_element_by_id('description').send_keys(description)\n",
    "        browser.find_element_by_class_name('AssetForm--action').click()\n",
    "        time.sleep(5)"
   ]
  },
  {
   "cell_type": "markdown",
   "id": "e648e921",
   "metadata": {},
   "source": [
    "# List Items For Sale"
   ]
  },
  {
   "cell_type": "code",
   "execution_count": null,
   "id": "6995362b",
   "metadata": {},
   "outputs": [],
   "source": []
  },
  {
   "cell_type": "code",
   "execution_count": 2,
   "id": "4d7fc95a",
   "metadata": {},
   "outputs": [],
   "source": [
    "opts = Options()\n",
    "#opts.set_headless()\n",
    "opts.add_extension('C:/Users/altoz/Downloads/coinbase_wallet.crx')\n",
    "#assert opts.headless\n",
    "browser = Chrome(options=opts)\n",
    "browser.get('https://opensea.io/')"
   ]
  },
  {
   "cell_type": "code",
   "execution_count": 52,
   "id": "16e481b6",
   "metadata": {},
   "outputs": [],
   "source": [
    "browser.get('https://opensea.io/collection/monsters-evolution?collectionSlug=monsters-evolution')\n",
    "listings = browser.find_elements_by_class_name('AssetMedia--img')"
   ]
  },
  {
   "cell_type": "code",
   "execution_count": 55,
   "id": "b64bb372",
   "metadata": {},
   "outputs": [
    {
     "data": {
      "text/plain": [
       "'Monsters Evolution Marketplace on OpenSea: Buy, sell, and explore digital assets'"
      ]
     },
     "execution_count": 55,
     "metadata": {},
     "output_type": "execute_result"
    }
   ],
   "source": [
    "browser.find_element_by_partial_link_text()"
   ]
  },
  {
   "cell_type": "code",
   "execution_count": 54,
   "id": "35e82afb",
   "metadata": {},
   "outputs": [
    {
     "name": "stdout",
     "output_type": "stream",
     "text": [
      "[]\n",
      "[]\n",
      "[]\n",
      "[]\n",
      "[]\n",
      "[]\n",
      "[]\n",
      "[]\n",
      "[]\n",
      "[]\n",
      "[]\n",
      "[]\n"
     ]
    }
   ],
   "source": [
    "for l in listings:\n",
    "    try:\n",
    "        print(l.find_elements_by_class_name('AssetCardFooter--name'))\n",
    "    except:\n",
    "        pass"
   ]
  },
  {
   "cell_type": "code",
   "execution_count": 46,
   "id": "c4b7f02e",
   "metadata": {},
   "outputs": [
    {
     "ename": "NoSuchElementException",
     "evalue": "Message: no such element: Unable to locate element: {\"method\":\"css selector\",\"selector\":\".AssetCardFooter--price\"}\n  (Session info: chrome=93.0.4577.63)\n",
     "output_type": "error",
     "traceback": [
      "\u001b[1;31m---------------------------------------------------------------------------\u001b[0m",
      "\u001b[1;31mNoSuchElementException\u001b[0m                    Traceback (most recent call last)",
      "\u001b[1;32m~\\AppData\\Local\\Temp/ipykernel_11580/1763759786.py\u001b[0m in \u001b[0;36m<module>\u001b[1;34m\u001b[0m\n\u001b[1;32m----> 1\u001b[1;33m \u001b[0mlistings\u001b[0m\u001b[1;33m[\u001b[0m\u001b[1;36m0\u001b[0m\u001b[1;33m]\u001b[0m\u001b[1;33m.\u001b[0m\u001b[0mfind_element_by_class_name\u001b[0m\u001b[1;33m(\u001b[0m\u001b[1;34m'AssetCardFooter--price'\u001b[0m\u001b[1;33m)\u001b[0m\u001b[1;33m\u001b[0m\u001b[1;33m\u001b[0m\u001b[0m\n\u001b[0m",
      "\u001b[1;32mc:\\users\\altoz\\documents\\projects\\generative-art\\gen_env\\lib\\site-packages\\selenium\\webdriver\\remote\\webelement.py\u001b[0m in \u001b[0;36mfind_element_by_class_name\u001b[1;34m(self, name)\u001b[0m\n\u001b[0;32m    396\u001b[0m             \u001b[0melement\u001b[0m \u001b[1;33m=\u001b[0m \u001b[0melement\u001b[0m\u001b[1;33m.\u001b[0m\u001b[0mfind_element_by_class_name\u001b[0m\u001b[1;33m(\u001b[0m\u001b[1;34m'foo'\u001b[0m\u001b[1;33m)\u001b[0m\u001b[1;33m\u001b[0m\u001b[1;33m\u001b[0m\u001b[0m\n\u001b[0;32m    397\u001b[0m         \"\"\"\n\u001b[1;32m--> 398\u001b[1;33m         \u001b[1;32mreturn\u001b[0m \u001b[0mself\u001b[0m\u001b[1;33m.\u001b[0m\u001b[0mfind_element\u001b[0m\u001b[1;33m(\u001b[0m\u001b[0mby\u001b[0m\u001b[1;33m=\u001b[0m\u001b[0mBy\u001b[0m\u001b[1;33m.\u001b[0m\u001b[0mCLASS_NAME\u001b[0m\u001b[1;33m,\u001b[0m \u001b[0mvalue\u001b[0m\u001b[1;33m=\u001b[0m\u001b[0mname\u001b[0m\u001b[1;33m)\u001b[0m\u001b[1;33m\u001b[0m\u001b[1;33m\u001b[0m\u001b[0m\n\u001b[0m\u001b[0;32m    399\u001b[0m \u001b[1;33m\u001b[0m\u001b[0m\n\u001b[0;32m    400\u001b[0m     \u001b[1;32mdef\u001b[0m \u001b[0mfind_elements_by_class_name\u001b[0m\u001b[1;33m(\u001b[0m\u001b[0mself\u001b[0m\u001b[1;33m,\u001b[0m \u001b[0mname\u001b[0m\u001b[1;33m)\u001b[0m\u001b[1;33m:\u001b[0m\u001b[1;33m\u001b[0m\u001b[1;33m\u001b[0m\u001b[0m\n",
      "\u001b[1;32mc:\\users\\altoz\\documents\\projects\\generative-art\\gen_env\\lib\\site-packages\\selenium\\webdriver\\remote\\webelement.py\u001b[0m in \u001b[0;36mfind_element\u001b[1;34m(self, by, value)\u001b[0m\n\u001b[0;32m    657\u001b[0m \u001b[1;33m\u001b[0m\u001b[0m\n\u001b[0;32m    658\u001b[0m         return self._execute(Command.FIND_CHILD_ELEMENT,\n\u001b[1;32m--> 659\u001b[1;33m                              {\"using\": by, \"value\": value})['value']\n\u001b[0m\u001b[0;32m    660\u001b[0m \u001b[1;33m\u001b[0m\u001b[0m\n\u001b[0;32m    661\u001b[0m     \u001b[1;32mdef\u001b[0m \u001b[0mfind_elements\u001b[0m\u001b[1;33m(\u001b[0m\u001b[0mself\u001b[0m\u001b[1;33m,\u001b[0m \u001b[0mby\u001b[0m\u001b[1;33m=\u001b[0m\u001b[0mBy\u001b[0m\u001b[1;33m.\u001b[0m\u001b[0mID\u001b[0m\u001b[1;33m,\u001b[0m \u001b[0mvalue\u001b[0m\u001b[1;33m=\u001b[0m\u001b[1;32mNone\u001b[0m\u001b[1;33m)\u001b[0m\u001b[1;33m:\u001b[0m\u001b[1;33m\u001b[0m\u001b[1;33m\u001b[0m\u001b[0m\n",
      "\u001b[1;32mc:\\users\\altoz\\documents\\projects\\generative-art\\gen_env\\lib\\site-packages\\selenium\\webdriver\\remote\\webelement.py\u001b[0m in \u001b[0;36m_execute\u001b[1;34m(self, command, params)\u001b[0m\n\u001b[0;32m    631\u001b[0m             \u001b[0mparams\u001b[0m \u001b[1;33m=\u001b[0m \u001b[1;33m{\u001b[0m\u001b[1;33m}\u001b[0m\u001b[1;33m\u001b[0m\u001b[1;33m\u001b[0m\u001b[0m\n\u001b[0;32m    632\u001b[0m         \u001b[0mparams\u001b[0m\u001b[1;33m[\u001b[0m\u001b[1;34m'id'\u001b[0m\u001b[1;33m]\u001b[0m \u001b[1;33m=\u001b[0m \u001b[0mself\u001b[0m\u001b[1;33m.\u001b[0m\u001b[0m_id\u001b[0m\u001b[1;33m\u001b[0m\u001b[1;33m\u001b[0m\u001b[0m\n\u001b[1;32m--> 633\u001b[1;33m         \u001b[1;32mreturn\u001b[0m \u001b[0mself\u001b[0m\u001b[1;33m.\u001b[0m\u001b[0m_parent\u001b[0m\u001b[1;33m.\u001b[0m\u001b[0mexecute\u001b[0m\u001b[1;33m(\u001b[0m\u001b[0mcommand\u001b[0m\u001b[1;33m,\u001b[0m \u001b[0mparams\u001b[0m\u001b[1;33m)\u001b[0m\u001b[1;33m\u001b[0m\u001b[1;33m\u001b[0m\u001b[0m\n\u001b[0m\u001b[0;32m    634\u001b[0m \u001b[1;33m\u001b[0m\u001b[0m\n\u001b[0;32m    635\u001b[0m     \u001b[1;32mdef\u001b[0m \u001b[0mfind_element\u001b[0m\u001b[1;33m(\u001b[0m\u001b[0mself\u001b[0m\u001b[1;33m,\u001b[0m \u001b[0mby\u001b[0m\u001b[1;33m=\u001b[0m\u001b[0mBy\u001b[0m\u001b[1;33m.\u001b[0m\u001b[0mID\u001b[0m\u001b[1;33m,\u001b[0m \u001b[0mvalue\u001b[0m\u001b[1;33m=\u001b[0m\u001b[1;32mNone\u001b[0m\u001b[1;33m)\u001b[0m\u001b[1;33m:\u001b[0m\u001b[1;33m\u001b[0m\u001b[1;33m\u001b[0m\u001b[0m\n",
      "\u001b[1;32mc:\\users\\altoz\\documents\\projects\\generative-art\\gen_env\\lib\\site-packages\\selenium\\webdriver\\remote\\webdriver.py\u001b[0m in \u001b[0;36mexecute\u001b[1;34m(self, driver_command, params)\u001b[0m\n\u001b[0;32m    319\u001b[0m         \u001b[0mresponse\u001b[0m \u001b[1;33m=\u001b[0m \u001b[0mself\u001b[0m\u001b[1;33m.\u001b[0m\u001b[0mcommand_executor\u001b[0m\u001b[1;33m.\u001b[0m\u001b[0mexecute\u001b[0m\u001b[1;33m(\u001b[0m\u001b[0mdriver_command\u001b[0m\u001b[1;33m,\u001b[0m \u001b[0mparams\u001b[0m\u001b[1;33m)\u001b[0m\u001b[1;33m\u001b[0m\u001b[1;33m\u001b[0m\u001b[0m\n\u001b[0;32m    320\u001b[0m         \u001b[1;32mif\u001b[0m \u001b[0mresponse\u001b[0m\u001b[1;33m:\u001b[0m\u001b[1;33m\u001b[0m\u001b[1;33m\u001b[0m\u001b[0m\n\u001b[1;32m--> 321\u001b[1;33m             \u001b[0mself\u001b[0m\u001b[1;33m.\u001b[0m\u001b[0merror_handler\u001b[0m\u001b[1;33m.\u001b[0m\u001b[0mcheck_response\u001b[0m\u001b[1;33m(\u001b[0m\u001b[0mresponse\u001b[0m\u001b[1;33m)\u001b[0m\u001b[1;33m\u001b[0m\u001b[1;33m\u001b[0m\u001b[0m\n\u001b[0m\u001b[0;32m    322\u001b[0m             response['value'] = self._unwrap_value(\n\u001b[0;32m    323\u001b[0m                 response.get('value', None))\n",
      "\u001b[1;32mc:\\users\\altoz\\documents\\projects\\generative-art\\gen_env\\lib\\site-packages\\selenium\\webdriver\\remote\\errorhandler.py\u001b[0m in \u001b[0;36mcheck_response\u001b[1;34m(self, response)\u001b[0m\n\u001b[0;32m    240\u001b[0m                 \u001b[0malert_text\u001b[0m \u001b[1;33m=\u001b[0m \u001b[0mvalue\u001b[0m\u001b[1;33m[\u001b[0m\u001b[1;34m'alert'\u001b[0m\u001b[1;33m]\u001b[0m\u001b[1;33m.\u001b[0m\u001b[0mget\u001b[0m\u001b[1;33m(\u001b[0m\u001b[1;34m'text'\u001b[0m\u001b[1;33m)\u001b[0m\u001b[1;33m\u001b[0m\u001b[1;33m\u001b[0m\u001b[0m\n\u001b[0;32m    241\u001b[0m             \u001b[1;32mraise\u001b[0m \u001b[0mexception_class\u001b[0m\u001b[1;33m(\u001b[0m\u001b[0mmessage\u001b[0m\u001b[1;33m,\u001b[0m \u001b[0mscreen\u001b[0m\u001b[1;33m,\u001b[0m \u001b[0mstacktrace\u001b[0m\u001b[1;33m,\u001b[0m \u001b[0malert_text\u001b[0m\u001b[1;33m)\u001b[0m\u001b[1;33m\u001b[0m\u001b[1;33m\u001b[0m\u001b[0m\n\u001b[1;32m--> 242\u001b[1;33m         \u001b[1;32mraise\u001b[0m \u001b[0mexception_class\u001b[0m\u001b[1;33m(\u001b[0m\u001b[0mmessage\u001b[0m\u001b[1;33m,\u001b[0m \u001b[0mscreen\u001b[0m\u001b[1;33m,\u001b[0m \u001b[0mstacktrace\u001b[0m\u001b[1;33m)\u001b[0m\u001b[1;33m\u001b[0m\u001b[1;33m\u001b[0m\u001b[0m\n\u001b[0m\u001b[0;32m    243\u001b[0m \u001b[1;33m\u001b[0m\u001b[0m\n\u001b[0;32m    244\u001b[0m     \u001b[1;32mdef\u001b[0m \u001b[0m_value_or_default\u001b[0m\u001b[1;33m(\u001b[0m\u001b[0mself\u001b[0m\u001b[1;33m,\u001b[0m \u001b[0mobj\u001b[0m\u001b[1;33m,\u001b[0m \u001b[0mkey\u001b[0m\u001b[1;33m,\u001b[0m \u001b[0mdefault\u001b[0m\u001b[1;33m)\u001b[0m\u001b[1;33m:\u001b[0m\u001b[1;33m\u001b[0m\u001b[1;33m\u001b[0m\u001b[0m\n",
      "\u001b[1;31mNoSuchElementException\u001b[0m: Message: no such element: Unable to locate element: {\"method\":\"css selector\",\"selector\":\".AssetCardFooter--price\"}\n  (Session info: chrome=93.0.4577.63)\n"
     ]
    }
   ],
   "source": [
    "listings[0].find_element_by_class_name('AssetCardFooter--price')"
   ]
  },
  {
   "cell_type": "code",
   "execution_count": null,
   "id": "8176c714",
   "metadata": {},
   "outputs": [],
   "source": [
    "i = 0\n",
    "while True:\n",
    "    try:\n",
    "        browser.get('https://opensea.io/assets/monsters-evolution?collectionSlug=monsters-evolution&search[sortAscending]=true&search[sortBy]=LAST_SALE_PRICE')\n",
    "        browser.find_element_by_class_name('AssetMedia--img').click()\n",
    "        time.sleep(4)\n",
    "\n",
    "        buttons = browser.find_elements_by_xpath(\"//*[contains(text(), 'Lower price')]\")\n",
    "        time.sleep(4)\n",
    "\n",
    "        buttons = browser.find_elements_by_xpath(\"//*[contains(text(), 'Sell')]\")\n",
    "        buttons[0].click()\n",
    "        time.sleep(4)\n",
    "        \n",
    "        browser.find_element_by_class_name('Input--input').send_keys('0.1')\n",
    "        buttons = browser.find_elements_by_xpath(\"//*[contains(text(), 'Post your listing')]\")\n",
    "        buttons[0].click()\n",
    "        time.sleep(8)\n",
    "        \n",
    "    except:\n",
    "        #time.sleep(10)\n",
    "        pass"
   ]
  },
  {
   "cell_type": "code",
   "execution_count": 59,
   "id": "87d807a3",
   "metadata": {},
   "outputs": [],
   "source": [
    "import requests\n",
    "\n",
    "url = \"https://api.opensea.io/api/v1/assets\"\n",
    "\n",
    "querystring = {\"owner\":\"0x9c847ce765a48701fba267366eefa12606780d72\",\"order_direction\":\"desc\",\"offset\":\"0\",\"limit\":\"50\"}\n",
    "\n",
    "response = requests.request(\"GET\", url, params=querystring)\n",
    "r = response.json()"
   ]
  },
  {
   "cell_type": "code",
   "execution_count": 62,
   "id": "d585eb26",
   "metadata": {},
   "outputs": [
    {
     "data": {
      "text/plain": [
       "dict_keys(['id', 'token_id', 'num_sales', 'background_color', 'image_url', 'image_preview_url', 'image_thumbnail_url', 'image_original_url', 'animation_url', 'animation_original_url', 'name', 'description', 'external_link', 'asset_contract', 'permalink', 'collection', 'decimals', 'token_metadata', 'owner', 'sell_orders', 'creator', 'traits', 'last_sale', 'top_bid', 'listing_date', 'is_presale', 'transfer_fee_payment_token', 'transfer_fee'])"
      ]
     },
     "execution_count": 62,
     "metadata": {},
     "output_type": "execute_result"
    }
   ],
   "source": [
    "r['assets'][0].keys()"
   ]
  },
  {
   "cell_type": "code",
   "execution_count": 68,
   "id": "054ed0d7",
   "metadata": {},
   "outputs": [
    {
     "data": {
      "text/plain": [
       "True"
      ]
     },
     "execution_count": 68,
     "metadata": {},
     "output_type": "execute_result"
    }
   ],
   "source": [
    "r['assets'][0]['is_presale']"
   ]
  },
  {
   "cell_type": "code",
   "execution_count": 64,
   "id": "b51897bb",
   "metadata": {},
   "outputs": [
    {
     "data": {
      "text/plain": [
       "'https://opensea.io/assets/0x495f947276749ce646f68ac8c248420045cb7b5e/70794890246539209553908577966764891244005574384516017089733188500445265395713'"
      ]
     },
     "execution_count": 64,
     "metadata": {},
     "output_type": "execute_result"
    }
   ],
   "source": [
    "r['assets'][0]['permalink']"
   ]
  },
  {
   "cell_type": "code",
   "execution_count": 69,
   "id": "0bea6112",
   "metadata": {},
   "outputs": [],
   "source": [
    "for i in r['assets']:\n",
    "    if i['is_presale'] == False:\n",
    "        break"
   ]
  },
  {
   "cell_type": "code",
   "execution_count": 71,
   "id": "c46def7c",
   "metadata": {},
   "outputs": [
    {
     "data": {
      "text/plain": [
       "True"
      ]
     },
     "execution_count": 71,
     "metadata": {},
     "output_type": "execute_result"
    }
   ],
   "source": []
  },
  {
   "cell_type": "code",
   "execution_count": 32,
   "id": "96e760a6",
   "metadata": {},
   "outputs": [],
   "source": [
    "browser.get('https://opensea.io/collection/monsters-evolution')"
   ]
  },
  {
   "cell_type": "code",
   "execution_count": 26,
   "id": "3f3436be",
   "metadata": {},
   "outputs": [],
   "source": [
    "browser.find_element_by_class_name('AssetMedia--img').click()"
   ]
  },
  {
   "cell_type": "code",
   "execution_count": 27,
   "id": "78b6b4df",
   "metadata": {},
   "outputs": [],
   "source": [
    "buttons = browser.find_elements_by_xpath(\"//*[contains(text(), 'Sell')]\")"
   ]
  },
  {
   "cell_type": "code",
   "execution_count": 28,
   "id": "355a8983",
   "metadata": {},
   "outputs": [],
   "source": [
    "buttons[0].click()"
   ]
  },
  {
   "cell_type": "code",
   "execution_count": 29,
   "id": "ff07fcc5",
   "metadata": {},
   "outputs": [],
   "source": [
    "browser.find_element_by_class_name('Input--input').send_keys('0.1')"
   ]
  },
  {
   "cell_type": "code",
   "execution_count": 30,
   "id": "56242d50",
   "metadata": {},
   "outputs": [],
   "source": [
    "buttons = browser.find_elements_by_xpath(\"//*[contains(text(), 'Post your listing')]\")"
   ]
  },
  {
   "cell_type": "code",
   "execution_count": 31,
   "id": "a38c0400",
   "metadata": {},
   "outputs": [],
   "source": [
    "buttons[0].click()"
   ]
  },
  {
   "cell_type": "code",
   "execution_count": null,
   "id": "9417ebfb",
   "metadata": {},
   "outputs": [],
   "source": []
  }
 ],
 "metadata": {
  "kernelspec": {
   "display_name": "Python 3 (ipykernel)",
   "language": "python",
   "name": "python3"
  },
  "language_info": {
   "codemirror_mode": {
    "name": "ipython",
    "version": 3
   },
   "file_extension": ".py",
   "mimetype": "text/x-python",
   "name": "python",
   "nbconvert_exporter": "python",
   "pygments_lexer": "ipython3",
   "version": "3.7.6"
  }
 },
 "nbformat": 4,
 "nbformat_minor": 5
}
