{
 "cells": [
  {
   "cell_type": "code",
   "execution_count": 19,
   "id": "acbd04d0-ca44-4dce-82fe-6aee72fc4401",
   "metadata": {},
   "outputs": [],
   "source": [
    "import os\n",
    "from glob import glob\n",
    "import torch\n",
    "from torch.utils.data import random_split, DataLoader, Dataset\n",
    "from torchvision import transforms\n",
    "from pytorch_lightning import LightningDataModule, LightningModule, Trainer\n",
    "from PIL import Image\n",
    "import numpy as np"
   ]
  },
  {
   "cell_type": "code",
   "execution_count": 20,
   "id": "59168a00-3d95-4493-82a2-d5aec7251eb3",
   "metadata": {},
   "outputs": [],
   "source": [
    "hparams = {\n",
    "    'batch_size': 2,\n",
    "    'image_size': 64,\n",
    "    'n_channels': 3,\n",
    "    'latent_vector_size': 100,\n",
    "    'generator_features': 64,\n",
    "    'discriminator_features': 64,\n",
    "    'epochs': 5,\n",
    "    'learning_rate': 0.0002,\n",
    "    'beta1': 0.5,\n",
    "    'gpus': 0\n",
    "}"
   ]
  },
  {
   "cell_type": "code",
   "execution_count": 21,
   "id": "30962fe1-7f09-4b6a-9e1e-42b4fdcf1b9d",
   "metadata": {},
   "outputs": [
    {
     "data": {
      "text/plain": [
       "'../data/raw/img_align_celeba/052628.jpg'"
      ]
     },
     "execution_count": 21,
     "metadata": {},
     "output_type": "execute_result"
    }
   ],
   "source": [
    "image_files = glob('../data/raw/img_align_celeba/*.jpg')\n",
    "image_files[0]"
   ]
  },
  {
   "cell_type": "code",
   "execution_count": 22,
   "id": "b59d3c72-68e1-4bee-b1f9-10d52a0b10b8",
   "metadata": {},
   "outputs": [],
   "source": [
    "class CelebDataset(Dataset):\n",
    "    \n",
    "    def __init__(self, data_dir: str, image_size: int = 64):\n",
    "        super().__init__()\n",
    "        \n",
    "        self.data_dir = data_dir\n",
    "        assert os.path.isdir(self.data_dir), f'self.data_dir is not a directory: {self.data_dir}'\n",
    "        self.transformation_stack = transforms.Compose([\n",
    "            transforms.Resize(image_size),\n",
    "            transforms.CenterCrop(image_size),\n",
    "            transforms.ToTensor(),\n",
    "            transforms.Normalize((0.5, 0.5, 0.5), (0.5, 0.5, 0.5)),\n",
    "        ])\n",
    "        self.image_files = glob(os.path.join(self.data_dir, '*.jpg'))\n",
    "        \n",
    "    def __len__(self):\n",
    "        return len(self.image_files)\n",
    "    \n",
    "    def __getitem__(self, idx):\n",
    "        \n",
    "        if torch.is_tensor(idx):\n",
    "            idx = idx.tolist()\n",
    "            \n",
    "        image_file = self.image_files[idx]\n",
    "        image = Image.open(image_file)\n",
    "        image = self.transformation_stack(image)\n",
    "        image = np.asarray(image).astype('float')\n",
    "        image = torch.from_numpy(image)\n",
    "                \n",
    "        return image"
   ]
  },
  {
   "cell_type": "code",
   "execution_count": 23,
   "id": "15d09dc1-b3a0-4598-bea9-acf65ca399a8",
   "metadata": {},
   "outputs": [
    {
     "data": {
      "text/plain": [
       "torch.Size([3, 64, 64])"
      ]
     },
     "execution_count": 23,
     "metadata": {},
     "output_type": "execute_result"
    }
   ],
   "source": [
    "dataset = CelebDataset(data_dir='../data/raw/img_align_celeba')\n",
    "batch = next(iter(dataset))\n",
    "batch.shape"
   ]
  },
  {
   "cell_type": "code",
   "execution_count": 31,
   "id": "b32a6908-e51e-49d8-a363-b293c472fe55",
   "metadata": {},
   "outputs": [],
   "source": [
    "class CelebDataModule(LightningDataModule):\n",
    "    \n",
    "    def __init__(\n",
    "        self,\n",
    "        data_dir: str,\n",
    "        batch_size: int = 4,\n",
    "        num_workers: int = 1,\n",
    "        image_size: int = 64,\n",
    "        \n",
    "    ):\n",
    "        super().__init__()\n",
    "        self.data_dir = data_dir\n",
    "        self.batch_size = batch_size\n",
    "        self.num_workers = num_workers\n",
    "        self.image_size = image_size\n",
    "\n",
    "        \n",
    "    def prepare_data(self):\n",
    "        assert os.path.isdir(self.data_dir), f'self.data_dir is not a directory: {self.data_dir}'\n",
    "\n",
    "    def setup(self):\n",
    "        \n",
    "        dataset = CelebDataset(self.data_dir, self.image_size)\n",
    "        number_of_images_in_dataset = len(dataset)\n",
    "        number_of_images_for_training = int(number_of_images_in_dataset*0.8)\n",
    "        number_of_images_for_testing = int(number_of_images_in_dataset*0.15)\n",
    "        number_of_images_for_validation = number_of_images_in_dataset - \\\n",
    "                                          number_of_images_for_training - \\\n",
    "                                          number_of_images_for_testing\n",
    "        \n",
    "        self.train_dataset, self.test_dataset, self.val_dataset = random_split(\n",
    "            dataset,\n",
    "            (\n",
    "                number_of_images_for_training, \n",
    "                number_of_images_for_testing, \n",
    "                number_of_images_for_validation\n",
    "            )\n",
    "        )\n",
    "        \n",
    "\n",
    "    def train_dataloader(self):\n",
    "        return DataLoader(\n",
    "            self.train_dataset,\n",
    "            batch_size=self.batch_size,\n",
    "            num_workers=self.num_workers,\n",
    "        )\n",
    "\n",
    "    def val_dataloader(self):\n",
    "        return DataLoader(\n",
    "            self.val_dataset, \n",
    "            batch_size=self.batch_size, \n",
    "            num_workers=self.num_workers\n",
    "        )\n",
    "\n",
    "    def test_dataloader(self):\n",
    "        return DataLoader(\n",
    "            self.test_dataset, \n",
    "            batch_size=self.batch_size, \n",
    "            num_workers=self.num_workers\n",
    "        )"
   ]
  },
  {
   "cell_type": "code",
   "execution_count": 37,
   "id": "88008797-8c0c-4d08-99ca-80be168c0e7d",
   "metadata": {},
   "outputs": [],
   "source": [
    "data_module = CelebDataModule(data_dir='../data/raw/img_align_celeba', image_size=64, batch_size=1)\n",
    "data_module.setup()"
   ]
  },
  {
   "cell_type": "code",
   "execution_count": 38,
   "id": "0e00190c-fe85-47a0-a67a-7f06a287aeca",
   "metadata": {},
   "outputs": [
    {
     "data": {
      "text/plain": [
       "torch.Size([3, 64, 64])"
      ]
     },
     "execution_count": 38,
     "metadata": {},
     "output_type": "execute_result"
    }
   ],
   "source": [
    "data_module.train_dataset[0].shape"
   ]
  },
  {
   "cell_type": "code",
   "execution_count": null,
   "id": "1e102b06-19bc-4f4e-881b-df70f29ee4a7",
   "metadata": {},
   "outputs": [],
   "source": []
  }
 ],
 "metadata": {
  "kernelspec": {
   "display_name": "Python 3 (ipykernel)",
   "language": "python",
   "name": "python3"
  },
  "language_info": {
   "codemirror_mode": {
    "name": "ipython",
    "version": 3
   },
   "file_extension": ".py",
   "mimetype": "text/x-python",
   "name": "python",
   "nbconvert_exporter": "python",
   "pygments_lexer": "ipython3",
   "version": "3.9.6"
  }
 },
 "nbformat": 4,
 "nbformat_minor": 5
}
